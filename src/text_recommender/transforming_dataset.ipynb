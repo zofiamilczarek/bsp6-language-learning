{
 "cells": [
  {
   "attachments": {},
   "cell_type": "markdown",
   "metadata": {},
   "source": [
    "This notebook presents how the data in `datasets/texts-pdf/` was transformed into a usable dataset.\n",
    "\n",
    "Texts taken from: https://lingua.com/english/reading/"
   ]
  },
  {
   "cell_type": "code",
   "execution_count": 40,
   "metadata": {},
   "outputs": [
    {
     "name": "stdout",
     "output_type": "stream",
     "text": [
      "The Empire State Building \n",
      "When exploring New York City, there are several different options for activities during a day trip. Some\n",
      "visitors come to see a show, visit art museums, or simply to shop in many of the city's high-end\n",
      "retailers. However, many tourists simply come to New York City for the sightseeing. One of the most\n",
      "visited landmarks in New York City is the Empire State Building.\n",
      "The Empire State Building, constructed in 1931, is a 102-story skyscraper, the ninth highest building in\n",
      "the world, and the fourth tallest structure in the United States. It is located in Midtown, Manhattan.\n",
      "This skyscraper is an iconic symbol of the city, having been featured in over 90 popular movies (as of\n",
      "2018) throughout film history. Tourists come from all over the world to visit this building and view the\n",
      "city from its famous observation decks.\n",
      "Matthew, an enthusiast of historic buildings, was excited for this trip to New York City because he has\n",
      "always appreciated architectural design. Matthew purchased a ticket that granted him access to\n",
      "beautiful 360-degree views of the city. The ticket included an elevator ride that stopped at two\n",
      "different vantage points, one at the 86th floor and the other at the rooftop observatory on the 102nd\n",
      "floor. From these observation decks, Matthew took incredible photographs of the entire New York City\n",
      "skyline. The rooftop views granted Matthew perfect aerial perspectives of Central Park, the Brooklyn\n",
      "Bridge, Times Square, the Statue of Liberty, and many other important city landmarks. \n",
      "\n"
     ]
    }
   ],
   "source": [
    "import PyPDF2\n",
    "\n",
    "def process_text(text):\n",
    "    # Find the start of the unwanted section\n",
    "    if text.find(\"……………\") != -1:\n",
    "        return \"\"\n",
    "    start = text.find(\"Did you understand the text?\")\n",
    "\n",
    "    text = text[:start]\n",
    "\n",
    "    #remove cefr level tag (B1, A2, etc.)\n",
    "    text = text.replace(\"(A1)\", \"\")\n",
    "    text = text.replace(\"(A2)\", \"\")\n",
    "    text = text.replace(\"(B1)\", \"\")\n",
    "    text = text.replace(\"(B2)\", \"\")\n",
    "    text = text.replace(\"(C1)\", \"\")\n",
    "    text = text.replace(\"(C2)\", \"\")\n",
    "    text = text.replace(\"© 2019 British Council   www.britishcouncil.org/learnenglish\", \"\")\n",
    "    \n",
    "    # Return the text up to (but not including) the start of the unwanted section\n",
    "\n",
    "\n",
    "    start = text.find(\"Reading text:\")\n",
    "    if start == -1:\n",
    "        start = text.find(\"Reading text :\")\n",
    "        if start == -1:\n",
    "            start = text.find(\"Reading t ext:\")\n",
    "            if start == -1:\n",
    "                start = text.find(\"Reading tex t:\")\n",
    "    end = text.find(\"Tasks\")\n",
    "    new_text = text[start:end]\n",
    "    if new_text == \"\":\n",
    "        new_text = text\n",
    "    return new_text\n",
    "def extract_text_from_pdf(file_path):\n",
    "    # Open the PDF file\n",
    "    with open(file_path, \"rb\") as file:\n",
    "        # Initialize a PDF file reader object\n",
    "        pdf = PyPDF2.PdfFileReader(file)\n",
    "\n",
    "        # Initialize a string to store the extracted text\n",
    "        extracted_text = \"\"\n",
    "\n",
    "        # Loop through each page in the PDF and extract the text\n",
    "        for page in range(pdf.getNumPages()):\n",
    "            extracted_text += pdf.getPage(page).extractText()\n",
    "\n",
    "        return process_text(extracted_text)\n",
    "\n",
    "\n",
    "\n",
    "# Specify the path to your PDF file\n",
    "file_path = \"datasets/texts-pdf/B1/_pdf_storage_english-text-empire-state-building.pdf\"\n",
    "#file_path = \"datasets/texts-pdf/A1/_pdf_storage_english-text-house.pdf\"\n",
    "\n",
    "# Extract and process the text from the PDF\n",
    "text = extract_text_from_pdf(file_path)\n",
    "\n",
    "# Print the processed text\n",
    "print(text)"
   ]
  },
  {
   "cell_type": "code",
   "execution_count": 41,
   "metadata": {},
   "outputs": [
    {
     "name": "stdout",
     "output_type": "stream",
     "text": [
      ".DS_Store\n",
      "B2\n",
      "A2\n",
      "C1\n",
      "B1\n",
      "A1\n",
      "C2\n"
     ]
    }
   ],
   "source": [
    "#traverse files in folder\n",
    "import os\n",
    "import pandas as pd\n",
    "\n",
    "path = \"datasets/texts-pdf/\"\n",
    "\n",
    "def transform_pdfs_to_dataset(path):\n",
    "    dataset = pd.DataFrame(columns=[\"text\",\"label\"])\n",
    "    for subdir in os.listdir(path):\n",
    "        print(subdir)\n",
    "        if subdir.endswith(\".DS_Store\"):\n",
    "            continue\n",
    "        for filename in os.listdir(os.path.join(path,subdir)):\n",
    "            if filename.endswith(\".pdf\"):\n",
    "                file_path = os.path.join(path,subdir,filename)\n",
    "                text = extract_text_from_pdf(file_path)\n",
    "                if text == \"\":\n",
    "                    continue\n",
    "                label = subdir\n",
    "                dataset = pd.concat([dataset,pd.DataFrame({\"text\":[text],\"label\":[label]})],ignore_index=True)\n",
    "            else:\n",
    "                continue\n",
    "    return dataset\n",
    "\n",
    "dataset = transform_pdfs_to_dataset(path)\n"
   ]
  },
  {
   "cell_type": "code",
   "execution_count": 43,
   "metadata": {},
   "outputs": [
    {
     "name": "stdout",
     "output_type": "stream",
     "text": [
      "Reading text: Asteroids  \n",
      "A \n",
      "In 2010, the planetary defence team at NASA had identified and logged 90 per cent of the \n",
      "asteroids near Earth measuring 1km wide. These ‘ near-Earth objects ’, or NEOs, are the size of \n",
      "mountains and include anything within 50 million kilometres of Earth’ s orbit. With an estimated \n",
      "50 left to log, NASA says none of the 887 it knows about are a significant danger to the planet.  \n",
      "B \n",
      "Now NASA is working towards logging some of the smaller asteroids, those measuring 140 \n",
      "metres wide or more. Of the 25,000 estimated asteroids of this size, so far  about 8,000 have \n",
      "been logged, leaving 17,000 unaccounted for. Considering that a 19 -metre asteroid that \n",
      "exploded above the city of Chelyabinsk in Russia in 2013 injured 1,200 people, these middle-sized asteroids would be a serious danger if they enter Earth’ s orbit.  \n",
      "C \n",
      "Whether NASA can find the remaining middle- sized NEOs depends on getting the money to \n",
      "build NEOCam, a 0.5- metre space telescope which would use infrared light to locate asteroids. \n",
      "If it did get the money, it could probably achieve its goal in ten years. Once logged, the planetary defence team would still need to work out how to defend the planet against being hit by the truly worrying asteroids – the PHAs.     \n",
      "  \n",
      "D \n",
      "‘Potentially Hazardous Asteroids ’ are rocks close enough to pass within 7.5 million \n",
      "kilometres  of Earth’ s orbit. NASA has created a map of 1,400 PHAs, none of which are \n",
      "expected to be a threat in the next one hundred years. With technology already available, \n",
      "NASA can track these objects and make predictions about possible impact, at which point two defence solutions could be launched.  \n",
      "E \n",
      "The first is DART – the Double Asteroid Redirection Test.  Plans are scheduled to test DART on \n",
      "the moon of an asteroid called Didymos. ‘Didymoon’ is 150 metres wide, orbitin g its 800-\n",
      "metre mother, and hopefully the impact of DART will knock  it out of its orbit enough for Earth-\n",
      "based telescopes to pick up.  \n",
      "F \n",
      "Another suggested defence against a PHA on course to hit Earth is to blow it up using a nuclear weapon. It may sound like a plot from a film, and it was the subject of the 1998 film Armageddon , but the Hypervelocity Asteroid Mitigation Mission for Emergency Response \n",
      "(HAMMER) is a genuine NASA proposal. The eight- ton rockets would be fired at an \n",
      "approaching asteroid with the hope of bumping it off course. If the asteroid was too close to \n",
      "Earth for this plan to work, the rockets would carry nuclear bombs to blow it up instead.  \n",
      " \n",
      " \n",
      "\n"
     ]
    }
   ],
   "source": [
    "# get only texts on B2 level\n",
    "print(dataset[dataset[\"label\"]==\"B2\"]['text'][6])"
   ]
  },
  {
   "cell_type": "code",
   "execution_count": 44,
   "metadata": {},
   "outputs": [],
   "source": [
    "dataset.to_csv(\"from_pdfs.csv\",index=False)"
   ]
  }
 ],
 "metadata": {
  "kernelspec": {
   "display_name": "bsp6",
   "language": "python",
   "name": "python3"
  },
  "language_info": {
   "codemirror_mode": {
    "name": "ipython",
    "version": 3
   },
   "file_extension": ".py",
   "mimetype": "text/x-python",
   "name": "python",
   "nbconvert_exporter": "python",
   "pygments_lexer": "ipython3",
   "version": "3.11.3"
  },
  "orig_nbformat": 4
 },
 "nbformat": 4,
 "nbformat_minor": 2
}
